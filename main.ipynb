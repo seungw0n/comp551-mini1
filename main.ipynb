{
 "cells": [
  {
   "cell_type": "code",
   "execution_count": 163,
   "metadata": {},
   "outputs": [],
   "source": [
    "\"\"\"\n",
    "Author: Seung Won Joeng\n",
    "Modifier: Kwanyeob Jung, Jaeshin Cho\n",
    "\"\"\"\n",
    "import numpy as np\n",
    "import pandas as pd\n",
    "import datetime as dt\n",
    "%matplotlib inline                                  \n",
    "import matplotlib.pyplot as plt\n",
    "np.random.seed(1234)\n"
   ]
  },
  {
   "cell_type": "code",
   "execution_count": 164,
   "metadata": {},
   "outputs": [
    {
     "name": "stdout",
     "output_type": "stream",
     "text": [
      "Type of df1:  <class 'pandas.core.frame.DataFrame'>\n",
      "Type of df2:  <class 'pandas.core.frame.DataFrame'>\n",
      "Shape of df1:  (624, 430)\n",
      "Shape of df2:  (98434, 62)\n"
     ]
    },
    {
     "name": "stderr",
     "output_type": "stream",
     "text": [
      "/Users/stevenjoeng/opt/anaconda3/lib/python3.7/site-packages/IPython/core/interactiveshell.py:3254: DtypeWarning: Columns (15) have mixed types.Specify dtype option on import or set low_memory=False.\n",
      "  if (await self.run_code(code, result,  async_=asy)):\n"
     ]
    }
   ],
   "source": [
    "# Read csv from current path.\n",
    "def read_csv():\n",
    "    df1 = pd.read_csv('2020_US_weekly_symptoms_dataset.csv')\n",
    "    df2 = pd.read_csv('aggregated_cc_by.csv')\n",
    "    return df1, df2\n",
    "\n",
    "df1, df2 = read_csv()\n",
    "print('Type of df1: ', type(df1))\n",
    "print('Type of df2: ', type(df2))\n",
    "print('Shape of df1: ', df1.shape);\n",
    "print('Shape of df2: ', df2.shape);"
   ]
  },
  {
   "cell_type": "code",
   "execution_count": 165,
   "metadata": {
    "scrolled": true
   },
   "outputs": [
    {
     "name": "stdout",
     "output_type": "stream",
     "text": [
      "Shape of df2:  (3458, 4)\n",
      "  open_covid_region_code region_name        date  hospitalized_new\n",
      "0                  US-WY     Wyoming  2020/03/07               0.0\n",
      "1                  US-WY     Wyoming  2020/03/08               0.0\n",
      "2                  US-WY     Wyoming  2020/03/09               0.0\n",
      "3                  US-WY     Wyoming  2020/03/10               0.0\n",
      "4                  US-WY     Wyoming  2020/03/11               0.0\n",
      "5                  US-WY     Wyoming  2020/03/12               0.0\n",
      "6                  US-WY     Wyoming  2020/03/13               0.0\n",
      "7                  US-WY     Wyoming  2020/03/14               0.0\n",
      "8                  US-WY     Wyoming  2020/03/15               0.0\n",
      "9                  US-WY     Wyoming  2020/03/16               0.0\n"
     ]
    }
   ],
   "source": [
    "# Since we are going to handle regions in USA from 2020_US_weekly_symptoms_dataset.csv\n",
    "# To extract the records of USA only from dataframe\n",
    "def extract_from_aggregated(df1, df2):\n",
    "    # Get all region codes \n",
    "    region_codes = df1.open_covid_region_code.unique()\n",
    "    result = df2[df2['open_covid_region_code'].isin(region_codes)]\n",
    "    result = result.reset_index(drop = True)\n",
    "    result = result[['open_covid_region_code', 'region_name', 'date', 'hospitalized_new']]\n",
    "    return result\n",
    "\n",
    "df2 = extract_from_aggregated(df1, df2)\n",
    "print('Shape of df2: ', df2.shape);\n",
    "print(df2.head(10))\n"
   ]
  },
  {
   "cell_type": "code",
   "execution_count": 171,
   "metadata": {},
   "outputs": [
    {
     "name": "stdout",
     "output_type": "stream",
     "text": [
      "Shape of df1:  (496, 127)\n",
      "Shape of df2:  (3458, 4)\n",
      "     open_covid_region_code region_name        date  hospitalized_new\n",
      "0                     US-WY     Wyoming  2020/03/07               0.0\n",
      "1                     US-WY     Wyoming  2020/03/08               0.0\n",
      "2                     US-WY     Wyoming  2020/03/09               0.0\n",
      "3                     US-WY     Wyoming  2020/03/10               0.0\n",
      "4                     US-WY     Wyoming  2020/03/11               0.0\n",
      "...                     ...         ...         ...               ...\n",
      "3453                  US-AK      Alaska  2020/10/03               0.0\n",
      "3454                  US-AK      Alaska  2020/10/04               0.0\n",
      "3455                  US-AK      Alaska  2020/10/05               0.0\n",
      "3456                  US-AK      Alaska  2020/10/06               0.0\n",
      "3457                  US-AK      Alaska  2020/10/07               0.0\n",
      "\n",
      "[3458 rows x 4 columns]\n"
     ]
    }
   ],
   "source": [
    "# Clean data in threshold num_rows * 0.05 and num_cols * 0.05\n",
    "def clean_dataframe(df):\n",
    "    num_rows,num_cols = df1.shape\n",
    "    thresh_rows = int(num_rows * 0.03);\n",
    "    thresh_cols = int(num_cols * 0.03);\n",
    "\n",
    "    df = df.dropna(axis = 1, thresh = thresh_rows)\n",
    "    df = df.dropna(axis = 0, thresh = thresh_cols)\n",
    "    df = df.reset_index(drop = True)\n",
    "    return df;\n",
    "\n",
    "df1 = clean_dataframe(df1)\n",
    "df2 = clean_dataframe(df2)\n",
    "\n",
    "print('Shape of df1: ', df1.shape);\n",
    "print('Shape of df2: ', df2.shape);\n",
    "print(df2)"
   ]
  },
  {
   "cell_type": "code",
   "execution_count": 198,
   "metadata": {},
   "outputs": [
    {
     "name": "stdout",
     "output_type": "stream",
     "text": [
      "0     2020-03-01\n",
      "1     2020-03-08\n",
      "2     2020-03-15\n",
      "3     2020-03-22\n",
      "4     2020-03-29\n",
      "         ...    \n",
      "508   2020-09-06\n",
      "509   2020-09-13\n",
      "510   2020-09-20\n",
      "511   2020-09-27\n",
      "512   2020-10-04\n",
      "Name: date, Length: 513, dtype: datetime64[ns]\n",
      "--------------------------------\n",
      "0     2020-03-01\n",
      "1     2020-03-08\n",
      "2     2020-03-15\n",
      "3     2020-03-22\n",
      "4     2020-03-29\n",
      "         ...    \n",
      "508   2020-09-06\n",
      "509   2020-09-13\n",
      "510   2020-09-20\n",
      "511   2020-09-27\n",
      "512   2020-10-04\n",
      "Name: date, Length: 513, dtype: datetime64[ns]\n",
      "--------------------------------\n",
      "2020-03-01 00:00:00\n",
      "2020-02-24 00:00:00\n",
      "True\n"
     ]
    }
   ],
   "source": [
    "\"\"\"\n",
    "Function merge_data takes two dataframes and merge two dataframes as one dataframe with weekly records.\n",
    "Parameter df1 corresponds to 2020_US_weekly_symptoms_dataset.csv which is weekly records\n",
    "Parameter df2 corresponds to aggregated_cc_by.csv which is daily records\n",
    "\"\"\"\n",
    "\n",
    "def same_week(d1, d2):\n",
    "#     d1 = datetime.datetime.strptime(date1,'%Y-%m-%d')\n",
    "#     d2 = datetime.datetime.strptime(date2,'%Y-%m-%d')\n",
    "    return (d1.isocalendar()[1] == d2.isocalendar()[1])\n",
    "\n",
    "def convert_datetime(df1, df2):\n",
    "    df1['date'] = pd.to_datetime(df1.date)\n",
    "    df2['date'] = pd.to_datetime(df2.date)\n",
    "    return df1,df2\n",
    "\n",
    "\n",
    "# d1 = '2020-03-09'\n",
    "# d2 = '2020-03-16'\n",
    "# print(same_week(d1,d2))\n",
    "\n",
    "\n",
    "def daily_to_weekly(df2):\n",
    "    df2 = df2.groupby(['open_covid_region_code', pd.Grouper(key='date', freq='1W')])['hospitalized_new'].sum().reset_index().sort_values(['open_covid_region_code', 'date'])\n",
    "    return df2\n",
    "\n",
    "\n",
    "def merge_data(df1, df2):\n",
    "    \n",
    "\n",
    "\n",
    "df1, df2 = convert_datetime(df1,df2)\n",
    "print(df2['date'])\n",
    "print('--------------------------------')\n",
    "df2 = daily_to_weekly(df2)\n",
    "print(df2['date'])\n",
    "print('--------------------------------')\n",
    "print(df2.date[0])\n",
    "print(df1.date[7])\n",
    "print(same_week(df1.date[7], df2.date[0]))\n",
    "print('--------------------------------')\n"
   ]
  },
  {
   "cell_type": "code",
   "execution_count": null,
   "metadata": {},
   "outputs": [],
   "source": []
  }
 ],
 "metadata": {
  "kernelspec": {
   "display_name": "Python 3",
   "language": "python",
   "name": "python3"
  },
  "language_info": {
   "codemirror_mode": {
    "name": "ipython",
    "version": 3
   },
   "file_extension": ".py",
   "mimetype": "text/x-python",
   "name": "python",
   "nbconvert_exporter": "python",
   "pygments_lexer": "ipython3",
   "version": "3.7.6"
  }
 },
 "nbformat": 4,
 "nbformat_minor": 4
}
