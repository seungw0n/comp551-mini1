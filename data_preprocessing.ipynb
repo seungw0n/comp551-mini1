{
 "cells": [
  {
   "cell_type": "code",
   "execution_count": 14,
   "metadata": {},
   "outputs": [],
   "source": [
    "import numpy as np\n",
    "import pandas as pd\n",
    "%matplotlib inline                                  \n",
    "import matplotlib.pyplot as plt\n",
    "np.random.seed(1234)\n"
   ]
  },
  {
   "cell_type": "code",
   "execution_count": 15,
   "metadata": {},
   "outputs": [
    {
     "name": "stdout",
     "output_type": "stream",
     "text": [
      "Type of df1:  <class 'pandas.core.frame.DataFrame'>\n",
      "Type of df2:  <class 'pandas.core.frame.DataFrame'>\n",
      "Shape of df1:  (624, 430)\n",
      "Shape of df2:  (98434, 62)\n"
     ]
    }
   ],
   "source": [
    "# Read csv from current path.\n",
    "def read_csv():\n",
    "    df1 = pd.read_csv('2020_US_weekly_symptoms_dataset.csv')\n",
    "    df2 = pd.read_csv('aggregated_cc_by.csv')\n",
    "    return df1, df2\n",
    "\n",
    "df1, df2 = read_csv()\n",
    "print('Type of df1: ', type(df1))\n",
    "print('Type of df2: ', type(df2))\n",
    "print('Shape of df1: ', df1.shape);\n",
    "print('Shape of df2: ', df2.shape);"
   ]
  },
  {
   "cell_type": "code",
   "execution_count": 16,
   "metadata": {},
   "outputs": [
    {
     "name": "stdout",
     "output_type": "stream",
     "text": [
      "Shape of df1:  (273, 120)\n",
      "Shape of df2:  (51349, 61)\n"
     ]
    }
   ],
   "source": [
    "# Clean data in threshold num_rows * 0.1 and num_cols * 0.1\n",
    "def clean_dataframe(df):\n",
    "    num_rows,num_cols = df1.shape\n",
    "    thresh_rows = int(num_rows * 0.1);\n",
    "    thresh_cols = int(num_cols * 0.1);\n",
    "\n",
    "    result = df.dropna(axis = 1, thresh = thresh_rows)\n",
    "    result = result.dropna(axis = 0, thresh = thresh_cols)\n",
    "    return result;\n",
    "\n",
    "df1 = clean_dataframe(df1)\n",
    "df2 = clean_dataframe(df2)\n",
    "\n",
    "print('Shape of df1: ', df1.shape);\n",
    "print('Shape of df2: ', df2.shape);\n"
   ]
  },
  {
   "cell_type": "code",
   "execution_count": 18,
   "metadata": {},
   "outputs": [
    {
     "name": "stdout",
     "output_type": "stream",
     "text": [
      "Shape of df2:  (282, 61)\n",
      "      open_covid_region_code               region_name        date  \\\n",
      "51633                    USA  United States of America  2020-01-01   \n",
      "51634                    USA  United States of America  2020-01-02   \n",
      "51635                    USA  United States of America  2020-01-03   \n",
      "51636                    USA  United States of America  2020-01-04   \n",
      "51637                    USA  United States of America  2020-01-05   \n",
      "...                      ...                       ...         ...   \n",
      "51910                    USA  United States of America  2020-10-04   \n",
      "51911                    USA  United States of America  2020-10-05   \n",
      "51912                    USA  United States of America  2020-10-06   \n",
      "51913                    USA  United States of America  2020-10-07   \n",
      "51914                    USA  United States of America  2020-10-08   \n",
      "\n",
      "       cases_cumulative  cases_new  cases_cumulative_per_million  \\\n",
      "51633               0.0        0.0                         0.000   \n",
      "51634               0.0        0.0                         0.000   \n",
      "51635               0.0        0.0                         0.000   \n",
      "51636               0.0        0.0                         0.000   \n",
      "51637               0.0        0.0                         0.000   \n",
      "...                 ...        ...                           ...   \n",
      "51910         7382944.0    50659.0                     22304.788   \n",
      "51911         7417845.0    34901.0                     22410.229   \n",
      "51912         7458550.0    40705.0                     22533.203   \n",
      "51913         7501612.0    43062.0                     22663.299   \n",
      "51914         7549794.0    48182.0                     22808.863   \n",
      "\n",
      "       cases_new_per_million  deaths_cumulative  deaths_new  \\\n",
      "51633                  0.000                0.0         0.0   \n",
      "51634                  0.000                0.0         0.0   \n",
      "51635                  0.000                0.0         0.0   \n",
      "51636                  0.000                0.0         0.0   \n",
      "51637                  0.000                0.0         0.0   \n",
      "...                      ...                ...         ...   \n",
      "51910                153.047           209394.0       678.0   \n",
      "51911                105.440           209794.0       400.0   \n",
      "51912                122.975           210192.0       398.0   \n",
      "51913                130.096           210909.0       717.0   \n",
      "51914                145.564           211801.0       892.0   \n",
      "\n",
      "       deaths_cumulative_per_million  ...  stringency_index  \\\n",
      "51633                          0.000  ...               0.0   \n",
      "51634                          0.000  ...               0.0   \n",
      "51635                          0.000  ...               0.0   \n",
      "51636                          0.000  ...               0.0   \n",
      "51637                          0.000  ...               0.0   \n",
      "...                              ...  ...               ...   \n",
      "51910                        632.605  ...               NaN   \n",
      "51911                        633.814  ...               NaN   \n",
      "51912                        635.016  ...               NaN   \n",
      "51913                        637.182  ...               NaN   \n",
      "51914                        639.877  ...               NaN   \n",
      "\n",
      "       stringency_index_for_display  stringency_legacy_index  \\\n",
      "51633                           0.0                      0.0   \n",
      "51634                           0.0                      0.0   \n",
      "51635                           0.0                      0.0   \n",
      "51636                           0.0                      0.0   \n",
      "51637                           0.0                      0.0   \n",
      "...                             ...                      ...   \n",
      "51910                          62.5                      NaN   \n",
      "51911                          62.5                      NaN   \n",
      "51912                          62.5                      NaN   \n",
      "51913                          62.5                      NaN   \n",
      "51914                          62.5                      NaN   \n",
      "\n",
      "       stringency_legacy_index_for_display  government_response_index  \\\n",
      "51633                                 0.00                        0.0   \n",
      "51634                                 0.00                        0.0   \n",
      "51635                                 0.00                        0.0   \n",
      "51636                                 0.00                        0.0   \n",
      "51637                                 0.00                        0.0   \n",
      "...                                    ...                        ...   \n",
      "51910                                66.67                        NaN   \n",
      "51911                                66.67                        NaN   \n",
      "51912                                66.67                        NaN   \n",
      "51913                                66.67                        NaN   \n",
      "51914                                66.67                        NaN   \n",
      "\n",
      "      government_response_index_for_display  containment_health_index  \\\n",
      "51633                                  0.00                       0.0   \n",
      "51634                                  0.00                       0.0   \n",
      "51635                                  0.00                       0.0   \n",
      "51636                                  0.00                       0.0   \n",
      "51637                                  0.00                       0.0   \n",
      "...                                     ...                       ...   \n",
      "51910                                 64.42                       NaN   \n",
      "51911                                 64.42                       NaN   \n",
      "51912                                 64.42                       NaN   \n",
      "51913                                 64.42                       NaN   \n",
      "51914                                 64.42                       NaN   \n",
      "\n",
      "       containment_health_index_for_display  economic_support_index  \\\n",
      "51633                                  0.00                     0.0   \n",
      "51634                                  0.00                     0.0   \n",
      "51635                                  0.00                     0.0   \n",
      "51636                                  0.00                     0.0   \n",
      "51637                                  0.00                     0.0   \n",
      "...                                     ...                     ...   \n",
      "51910                                 64.77                     NaN   \n",
      "51911                                 64.77                     NaN   \n",
      "51912                                 64.77                     NaN   \n",
      "51913                                 64.77                     NaN   \n",
      "51914                                 64.77                     NaN   \n",
      "\n",
      "       economic_support_index_for_display  \n",
      "51633                                 0.0  \n",
      "51634                                 0.0  \n",
      "51635                                 0.0  \n",
      "51636                                 0.0  \n",
      "51637                                 0.0  \n",
      "...                                   ...  \n",
      "51910                                62.5  \n",
      "51911                                62.5  \n",
      "51912                                62.5  \n",
      "51913                                62.5  \n",
      "51914                                62.5  \n",
      "\n",
      "[282 rows x 61 columns]\n"
     ]
    }
   ],
   "source": [
    "# Since we are going to handle records in USA, to extract the records of USA only from dataframe.\n",
    "def extract_USA(df):\n",
    "    result = df.loc[df['open_covid_region_code'] == 'USA']\n",
    "    return result\n",
    "\n",
    "df2 = extract_USA(df2)\n",
    "print('Shape of df2: ', df2.shape);\n",
    "print(df2)"
   ]
  },
  {
   "cell_type": "code",
   "execution_count": null,
   "metadata": {},
   "outputs": [],
   "source": [
    "def merge_data(df1, df2):\n",
    "    "
   ]
  }
 ],
 "metadata": {
  "kernelspec": {
   "display_name": "Python 3",
   "language": "python",
   "name": "python3"
  },
  "language_info": {
   "codemirror_mode": {
    "name": "ipython",
    "version": 3
   },
   "file_extension": ".py",
   "mimetype": "text/x-python",
   "name": "python",
   "nbconvert_exporter": "python",
   "pygments_lexer": "ipython3",
   "version": "3.7.6"
  }
 },
 "nbformat": 4,
 "nbformat_minor": 4
}
